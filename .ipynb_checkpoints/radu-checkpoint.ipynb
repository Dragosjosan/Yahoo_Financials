{
 "cells": [
  {
   "cell_type": "code",
   "execution_count": 1,
   "metadata": {},
   "outputs": [
    {
     "data": {
      "text/html": [
       "<div>\n",
       "<style scoped>\n",
       "    .dataframe tbody tr th:only-of-type {\n",
       "        vertical-align: middle;\n",
       "    }\n",
       "\n",
       "    .dataframe tbody tr th {\n",
       "        vertical-align: top;\n",
       "    }\n",
       "\n",
       "    .dataframe thead th {\n",
       "        text-align: right;\n",
       "    }\n",
       "</style>\n",
       "<table border=\"1\" class=\"dataframe\">\n",
       "  <thead>\n",
       "    <tr style=\"text-align: right;\">\n",
       "      <th></th>\n",
       "      <th>squadName</th>\n",
       "      <th>homeTown</th>\n",
       "      <th>formed</th>\n",
       "      <th>secretBase</th>\n",
       "      <th>active</th>\n",
       "      <th>members</th>\n",
       "    </tr>\n",
       "  </thead>\n",
       "  <tbody>\n",
       "    <tr>\n",
       "      <th>0</th>\n",
       "      <td>Super hero squad</td>\n",
       "      <td>Metro City</td>\n",
       "      <td>2016</td>\n",
       "      <td>Super tower</td>\n",
       "      <td>True</td>\n",
       "      <td>{'name': 'Molecule Man', 'age': 29, 'secretIde...</td>\n",
       "    </tr>\n",
       "    <tr>\n",
       "      <th>1</th>\n",
       "      <td>Super hero squad</td>\n",
       "      <td>Metro City</td>\n",
       "      <td>2016</td>\n",
       "      <td>Super tower</td>\n",
       "      <td>True</td>\n",
       "      <td>{'name': 'Madame Uppercut', 'age': 39, 'secret...</td>\n",
       "    </tr>\n",
       "    <tr>\n",
       "      <th>2</th>\n",
       "      <td>Super hero squad</td>\n",
       "      <td>Metro City</td>\n",
       "      <td>2016</td>\n",
       "      <td>Super tower</td>\n",
       "      <td>True</td>\n",
       "      <td>{'name': 'Eternal Flame', 'age': 1000000, 'sec...</td>\n",
       "    </tr>\n",
       "  </tbody>\n",
       "</table>\n",
       "</div>"
      ],
      "text/plain": [
       "          squadName    homeTown  formed   secretBase  active  \\\n",
       "0  Super hero squad  Metro City    2016  Super tower    True   \n",
       "1  Super hero squad  Metro City    2016  Super tower    True   \n",
       "2  Super hero squad  Metro City    2016  Super tower    True   \n",
       "\n",
       "                                             members  \n",
       "0  {'name': 'Molecule Man', 'age': 29, 'secretIde...  \n",
       "1  {'name': 'Madame Uppercut', 'age': 39, 'secret...  \n",
       "2  {'name': 'Eternal Flame', 'age': 1000000, 'sec...  "
      ]
     },
     "execution_count": 1,
     "metadata": {},
     "output_type": "execute_result"
    }
   ],
   "source": [
    "import os\n",
    "import json\n",
    "import pandas as pd\n",
    "\n",
    "\n",
    "dfs = pd.read_json('superheroes.json')\n",
    "dfs.head()\n",
    "\n",
    "\n",
    "    "
   ]
  },
  {
   "cell_type": "code",
   "execution_count": 10,
   "metadata": {},
   "outputs": [
    {
     "data": {
      "text/plain": [
       "217840000000.0"
      ]
     },
     "execution_count": 10,
     "metadata": {},
     "output_type": "execute_result"
    }
   ],
   "source": [
    "dfy = pd.read_json('Yahoo_Financials.json')\n",
    "dfy['CSCO']['Valuation Measures']['Market Cap (intraday)']"
   ]
  },
  {
   "cell_type": "code",
   "execution_count": null,
   "metadata": {
    "scrolled": true
   },
   "outputs": [],
   "source": [
    "dfz = pd.read_json('Yahoo_Financials.json')\n",
    "dfz"
   ]
  },
  {
   "cell_type": "code",
   "execution_count": 11,
   "metadata": {},
   "outputs": [
    {
     "name": "stdout",
     "output_type": "stream",
     "text": [
      "27.59\n",
      "41.1\n",
      "59.97\n",
      "46.11\n",
      "22.38\n",
      "21.59\n",
      "25.92\n",
      "29.84\n",
      "29.32\n",
      "12.03\n",
      "32.57\n",
      "58.69\n",
      "79.76\n",
      "54.67\n",
      "591.07\n"
     ]
    }
   ],
   "source": [
    "for company in dfy:\n",
    "    print(dfy[company]['Valuation Measures']['Trailing P/E'])"
   ]
  },
  {
   "cell_type": "code",
   "execution_count": 13,
   "metadata": {},
   "outputs": [
    {
     "ename": "TypeError",
     "evalue": "'float' object is not iterable",
     "output_type": "error",
     "traceback": [
      "\u001b[1;31m---------------------------------------------------------------------------\u001b[0m",
      "\u001b[1;31mTypeError\u001b[0m                                 Traceback (most recent call last)",
      "\u001b[1;32m<ipython-input-13-020a163befc8>\u001b[0m in \u001b[0;36m<module>\u001b[1;34m\u001b[0m\n\u001b[1;32m----> 1\u001b[1;33m \u001b[1;33m[\u001b[0m\u001b[1;33m[\u001b[0m\u001b[0mvalue\u001b[0m \u001b[1;32mfor\u001b[0m \u001b[0mvalue\u001b[0m \u001b[1;32min\u001b[0m \u001b[0mdfy\u001b[0m\u001b[1;33m[\u001b[0m\u001b[0mcompany\u001b[0m\u001b[1;33m]\u001b[0m\u001b[1;33m[\u001b[0m\u001b[1;34m'Valuation Measures'\u001b[0m\u001b[1;33m]\u001b[0m\u001b[1;33m[\u001b[0m\u001b[1;34m'Trailing P/E'\u001b[0m\u001b[1;33m]\u001b[0m\u001b[1;33m]\u001b[0m \u001b[1;32mfor\u001b[0m \u001b[0mcompany\u001b[0m \u001b[1;32min\u001b[0m \u001b[0mdfy\u001b[0m\u001b[1;33m]\u001b[0m\u001b[1;33m\u001b[0m\u001b[1;33m\u001b[0m\u001b[0m\n\u001b[0m",
      "\u001b[1;32m<ipython-input-13-020a163befc8>\u001b[0m in \u001b[0;36m<listcomp>\u001b[1;34m(.0)\u001b[0m\n\u001b[1;32m----> 1\u001b[1;33m \u001b[1;33m[\u001b[0m\u001b[1;33m[\u001b[0m\u001b[0mvalue\u001b[0m \u001b[1;32mfor\u001b[0m \u001b[0mvalue\u001b[0m \u001b[1;32min\u001b[0m \u001b[0mdfy\u001b[0m\u001b[1;33m[\u001b[0m\u001b[0mcompany\u001b[0m\u001b[1;33m]\u001b[0m\u001b[1;33m[\u001b[0m\u001b[1;34m'Valuation Measures'\u001b[0m\u001b[1;33m]\u001b[0m\u001b[1;33m[\u001b[0m\u001b[1;34m'Trailing P/E'\u001b[0m\u001b[1;33m]\u001b[0m\u001b[1;33m]\u001b[0m \u001b[1;32mfor\u001b[0m \u001b[0mcompany\u001b[0m \u001b[1;32min\u001b[0m \u001b[0mdfy\u001b[0m\u001b[1;33m]\u001b[0m\u001b[1;33m\u001b[0m\u001b[1;33m\u001b[0m\u001b[0m\n\u001b[0m",
      "\u001b[1;31mTypeError\u001b[0m: 'float' object is not iterable"
     ]
    }
   ],
   "source": [
    "[dfy[company]['Valuation Measures']['Trailing P/E'] for company in dfy]"
   ]
  },
  {
   "cell_type": "code",
   "execution_count": null,
   "metadata": {},
   "outputs": [],
   "source": []
  },
  {
   "cell_type": "code",
   "execution_count": null,
   "metadata": {},
   "outputs": [],
   "source": []
  },
  {
   "cell_type": "code",
   "execution_count": null,
   "metadata": {},
   "outputs": [],
   "source": []
  },
  {
   "cell_type": "code",
   "execution_count": null,
   "metadata": {},
   "outputs": [],
   "source": []
  },
  {
   "cell_type": "code",
   "execution_count": null,
   "metadata": {},
   "outputs": [],
   "source": []
  },
  {
   "cell_type": "code",
   "execution_count": 113,
   "metadata": {},
   "outputs": [
    {
     "name": "stdout",
     "output_type": "stream",
     "text": [
      "Values = {'AAPL': {'Valuation Measures': {'Market Cap (intraday)': 2230000000000.0, 'Enterprise Value': 2270000000000.0, 'Trailing P/E': 36.07, 'Forward P/E': 28.3, 'PEG Ratio (5 yr expected)': 1.84, 'Price/Sales': 7.59, 'Price/Book': 33.79, 'Enterprise Value/Revenue': 7.71, 'Enterprise Value/EBITDA': 26.63}, 'Fiscal Year': {'Last Split Date': 'Aug 30, 2020', 'Fiscal Year Ends': 'Sep 25, 2020'}, 'Profitability': {'Most Recent Quarter': 'Dec 25, 2020', 'Profit Margin': 21.74}, 'Management Effectiveness': {'Operating Margin': 25.25, 'Return on Assets': 13.36}, 'Income Statement': {'Return on Equity': 82.09, 'Revenue': 294140000000.0, 'Revenue Per Share': 17.13, 'Quarterly Revenue Growth': 21.4, 'Gross Profit': 104960000000.0, 'EBITDA': 85160000000.0, 'Net Income Avi to Common': 63930000000.0, 'Diluted EPS': 3.69}, 'Balance Sheet': {'Quarterly Earnings Growth': 29.3, 'Total Cash': 76830000000.0, 'Total Cash Per Share': 4.58, 'Total Debt': 112040000000.0, 'Total Debt/Equity': 169.19, 'Current Ratio': 1.16}, 'Cash Flow Statement': {'Book Value Per Share': 3.94, 'Operating Cash Flow': 88920000000.0}}}\n",
      "Values = {'ADBE': {'Valuation Measures': {'Market Cap (intraday)': 240930000000.0, 'Enterprise Value': 240680000000.0, 'Trailing P/E': 43.88, 'Forward P/E': 36.85, 'PEG Ratio (5 yr expected)': 2.12, 'Price/Sales': 17.61, 'Price/Book': 17.82, 'Enterprise Value/Revenue': 17.59, 'Enterprise Value/EBITDA': 45.13}, 'Fiscal Year': {'Last Split Date': 'May 23, 2005', 'Fiscal Year Ends': 'Nov 26, 2020'}, 'Profitability': {'Most Recent Quarter': 'Mar 04, 2021', 'Profit Margin': 40.68}, 'Management Effectiveness': {'Operating Margin': 34.75, 'Return on Assets': 12.86}, 'Income Statement': {'Return on Equity': 46.36, 'Revenue': 13680000000.0, 'Revenue Per Share': 28.5, 'Quarterly Revenue Growth': 26.3, 'Gross Profit': 11150000000.0, 'EBITDA': 5330000000.0, 'Net Income Avi to Common': 5570000000.0, 'Diluted EPS': 11.49}, 'Balance Sheet': {'Quarterly Earnings Growth': 32.0, 'Total Cash': 4960000000.0, 'Total Cash Per Share': 10.38, 'Total Debt': 4710000000.0, 'Total Debt/Equity': 34.75, 'Current Ratio': 1.27}, 'Cash Flow Statement': {'Book Value Per Share': 28.28, 'Operating Cash Flow': 6170000000.0}}}\n",
      "Values = {'AMZN': {'Valuation Measures': {'Market Cap (intraday)': 1700000000000.0, 'Enterprise Value': 1710000000000.0, 'Trailing P/E': 80.62, 'Forward P/E': 50.89, 'PEG Ratio (5 yr expected)': 1.71, 'Price/Sales': 4.4, 'Price/Book': 18.16, 'Enterprise Value/Revenue': 4.44, 'Enterprise Value/EBITDA': 35.62}, 'Fiscal Year': {'Last Split Date': 'Sep 01, 1999', 'Fiscal Year Ends': 'Dec 30, 2020'}, 'Profitability': {'Most Recent Quarter': 'Dec 30, 2020', 'Profit Margin': 5.53}, 'Management Effectiveness': {'Operating Margin': 5.93, 'Return on Assets': 5.24}, 'Income Statement': {'Return on Equity': 27.44, 'Revenue': 386060000000.0, 'Revenue Per Share': 772.13, 'Quarterly Revenue Growth': 43.6, 'Gross Profit': 152760000000.0, 'EBITDA': 48150000000.0, 'Net Income Avi to Common': 21330000000.0, 'Diluted EPS': 41.83}, 'Balance Sheet': {'Quarterly Earnings Growth': 121.0, 'Total Cash': 84400000000.0, 'Total Cash Per Share': 167.6, 'Total Debt': 101230000000.0, 'Total Debt/Equity': 108.38, 'Current Ratio': 1.05}, 'Cash Flow Statement': {'Book Value Per Share': 185.69, 'Operating Cash Flow': 66060000000.0}}}\n",
      "Values = {'ASML': {'Valuation Measures': {'Market Cap (intraday)': 265760000000.0, 'Enterprise Value': 261180000000.0, 'Trailing P/E': 62.88, 'Forward P/E': 44.83, 'PEG Ratio (5 yr expected)': 2.64, 'Price/Sales': 15.96, 'Price/Book': 19.05, 'Enterprise Value/Revenue': 15.68, 'Enterprise Value/EBITDA': 49.26}, 'Fiscal Year': {'Last Split Date': 'Nov 28, 2012', 'Fiscal Year Ends': 'Dec 30, 2020'}, 'Profitability': {'Most Recent Quarter': 'Dec 30, 2020', 'Profit Margin': 25.42}, 'Management Effectiveness': {'Operating Margin': 29.02, 'Return on Assets': 10.16}, 'Income Statement': {'Return on Equity': 26.86, 'Revenue': 16660000000.0, 'Revenue Per Share': 39.82, 'Quarterly Revenue Growth': 5.4, 'Gross Profit': 6800000000.0, 'EBITDA': 5300000000.0, 'Net Income Avi to Common': 4230000000.0000005, 'Diluted EPS': 10.09}, 'Balance Sheet': {'Quarterly Earnings Growth': 19.1, 'Total Cash': 8800000000.0, 'Total Cash Per Share': 21.14, 'Total Debt': 5780000000.0, 'Total Debt/Equity': 35.01, 'Current Ratio': 2.41}, 'Cash Flow Statement': {'Book Value Per Share': 33.29, 'Operating Cash Flow': 5510000000.0}}}\n",
      "Values = {'CMCSA': {'Valuation Measures': {'Market Cap (intraday)': 245390000000.0, 'Enterprise Value': 349730000000.0, 'Trailing P/E': 23.5, 'Forward P/E': 14.8, 'PEG Ratio (5 yr expected)': 1.35, 'Price/Sales': 2.37, 'Price/Book': 2.72, 'Enterprise Value/Revenue': 3.38, 'Enterprise Value/EBITDA': 11.43}, 'Fiscal Year': {'Last Split Date': 'Feb 20, 2017', 'Fiscal Year Ends': 'Dec 30, 2020'}, 'Profitability': {'Most Recent Quarter': 'Dec 30, 2020', 'Profit Margin': 10.17}, 'Management Effectiveness': {'Operating Margin': 16.89, 'Return on Assets': 4.07}, 'Income Statement': {'Return on Equity': 12.01, 'Revenue': 103560000000.0, 'Revenue Per Share': 22.64, 'Quarterly Revenue Growth': -2.4, 'Gross Profit': 70440000000.0, 'EBITDA': 30590000000.0, 'Net Income Avi to Common': 10530000000.0, 'Diluted EPS': 2.28}, 'Balance Sheet': {'Quarterly Earnings Growth': 6.9, 'Total Cash': 11740000000.0, 'Total Cash Per Share': 2.56, 'Total Debt': 113390000000.0, 'Total Debt/Equity': 121.9, 'Current Ratio': 0.93}, 'Cash Flow Statement': {'Book Value Per Share': 19.72, 'Operating Cash Flow': 24740000000.0}}}\n",
      "Values = {'CSCO': {'Valuation Measures': {'Market Cap (intraday)': 219910000000.0, 'Enterprise Value': 204950000000.0, 'Trailing P/E': 21.79, 'Forward P/E': 15.23, 'PEG Ratio (5 yr expected)': 2.3, 'Price/Sales': 4.58, 'Price/Book': 5.62, 'Enterprise Value/Revenue': 4.27, 'Enterprise Value/EBITDA': 13.45}, 'Fiscal Year': {'Last Split Date': 'Mar 22, 2000', 'Fiscal Year Ends': 'Jul 24, 2020'}, 'Profitability': {'Most Recent Quarter': 'Jan 22, 2021', 'Profit Margin': 21.09}, 'Management Effectiveness': {'Operating Margin': 28.25, 'Return on Assets': 9.12}, 'Income Statement': {'Return on Equity': 27.14, 'Revenue': 48030000000.0, 'Revenue Per Share': 11.36, 'Quarterly Revenue Growth': -0.4, 'Gross Profit': 31680000000.0, 'EBITDA': 15240000000.0, 'Net Income Avi to Common': 10130000000.0, 'Diluted EPS': 2.39}, 'Balance Sheet': {'Quarterly Earnings Growth': -11.6, 'Total Cash': 30590000000.0, 'Total Cash Per Share': 7.25, 'Total Debt': 15620000000.0, 'Total Debt/Equity': 39.93, 'Current Ratio': 1.61}, 'Cash Flow Statement': {'Book Value Per Share': 9.27, 'Operating Cash Flow': 15110000000.0}}}\n",
      "Values = {'FB': {'Valuation Measures': {'Market Cap (intraday)': 889780000000.0, 'Enterprise Value': 839010000000.0, 'Trailing P/E': 30.97, 'Forward P/E': 23.09, 'PEG Ratio (5 yr expected)': 1.15, 'Price/Sales': 10.35, 'Price/Book': 6.94, 'Enterprise Value/Revenue': 9.76, 'Enterprise Value/EBITDA': 21.22}, 'Fiscal Year': {'Last Split Date': 'N/A', 'Fiscal Year Ends': 'Dec 30, 2020'}, 'Profitability': {'Most Recent Quarter': 'Dec 30, 2020', 'Profit Margin': 33.9}, 'Management Effectiveness': {'Operating Margin': 38.01, 'Return on Assets': 13.95}, 'Income Statement': {'Return on Equity': 25.42, 'Revenue': 85960000000.0, 'Revenue Per Share': 30.15, 'Quarterly Revenue Growth': 33.2, 'Gross Profit': 69270000000.0, 'EBITDA': 39530000000.0, 'Net Income Avi to Common': 29150000000.0, 'Diluted EPS': 10.09}, 'Balance Sheet': {'Quarterly Earnings Growth': 52.7, 'Total Cash': 61950000000.0, 'Total Cash Per Share': 21.76, 'Total Debt': 11180000000.0, 'Total Debt/Equity': 8.71, 'Current Ratio': 5.05}, 'Cash Flow Statement': {'Book Value Per Share': 45.03, 'Operating Cash Flow': 38750000000.0}}}\n",
      "Values = {'GOOG': {'Valuation Measures': {'Market Cap (intraday)': 1540000000000.0, 'Enterprise Value': 1430000000000.0, 'Trailing P/E': 39.0, 'Forward P/E': 28.21, 'PEG Ratio (5 yr expected)': 1.73, 'Price/Sales': 8.41, 'Price/Book': 6.94, 'Enterprise Value/Revenue': 7.85, 'Enterprise Value/EBITDA': 26.09}, 'Fiscal Year': {'Last Split Date': 'Apr 26, 2015', 'Fiscal Year Ends': 'Dec 30, 2020'}, 'Profitability': {'Most Recent Quarter': 'Dec 30, 2020', 'Profit Margin': 22.06}, 'Management Effectiveness': {'Operating Margin': 22.58, 'Return on Assets': 8.65}, 'Income Statement': {'Return on Equity': 19.0, 'Revenue': 182530000000.0, 'Revenue Per Share': 268.1, 'Quarterly Revenue Growth': 23.5, 'Gross Profit': 97800000000.0, 'EBITDA': 54900000000.0, 'Net Income Avi to Common': 40270000000.0, 'Diluted EPS': 58.61}, 'Balance Sheet': {'Quarterly Earnings Growth': 42.7, 'Total Cash': 136690000000.0, 'Total Cash Per Share': 202.77, 'Total Debt': 27870000000.0, 'Total Debt/Equity': 12.52, 'Current Ratio': 3.07}, 'Cash Flow Statement': {'Book Value Per Share': 329.59, 'Operating Cash Flow': 65120000000.00001}}}\n",
      "Values = {'GOOGL': {'Valuation Measures': {'Market Cap (intraday)': 1540000000000.0, 'Enterprise Value': 1420000000000.0, 'Trailing P/E': 38.74, 'Forward P/E': 28.07, 'PEG Ratio (5 yr expected)': 1.72, 'Price/Sales': 8.41, 'Price/Book': 6.89, 'Enterprise Value/Revenue': 7.79, 'Enterprise Value/EBITDA': 25.9}, 'Fiscal Year': {'Last Split Date': 'Apr 02, 2014', 'Fiscal Year Ends': 'Dec 30, 2020'}, 'Profitability': {'Most Recent Quarter': 'Dec 30, 2020', 'Profit Margin': 22.06}, 'Management Effectiveness': {'Operating Margin': 22.58, 'Return on Assets': 8.65}, 'Income Statement': {'Return on Equity': 19.0, 'Revenue': 182530000000.0, 'Revenue Per Share': 268.1, 'Quarterly Revenue Growth': 23.5, 'Gross Profit': 97800000000.0, 'EBITDA': 54900000000.0, 'Net Income Avi to Common': 40270000000.0, 'Diluted EPS': 58.61}, 'Balance Sheet': {'Quarterly Earnings Growth': 42.7, 'Total Cash': 136690000000.0, 'Total Cash Per Share': 202.77, 'Total Debt': 27870000000.0, 'Total Debt/Equity': 12.52, 'Current Ratio': 3.07}, 'Cash Flow Statement': {'Book Value Per Share': 329.59, 'Operating Cash Flow': 65120000000.00001}}}\n",
      "Values = {'INTC': {'Valuation Measures': {'Market Cap (intraday)': 277980000000.0, 'Enterprise Value': 290370000000.0, 'Trailing P/E': 13.82, 'Forward P/E': 14.46, 'PEG Ratio (5 yr expected)': 2.56, 'Price/Sales': 3.57, 'Price/Book': 3.42, 'Enterprise Value/Revenue': 3.73, 'Enterprise Value/EBITDA': 8.04}, 'Fiscal Year': {'Last Split Date': 'Jul 30, 2000', 'Fiscal Year Ends': 'Dec 25, 2020'}, 'Profitability': {'Most Recent Quarter': 'Dec 25, 2020', 'Profit Margin': 26.84}, 'Management Effectiveness': {'Operating Margin': 30.66, 'Return on Assets': 10.31}, 'Income Statement': {'Return on Equity': 26.36, 'Revenue': 77870000000.0, 'Revenue Per Share': 18.54, 'Quarterly Revenue Growth': -1.1, 'Gross Profit': 43610000000.0, 'EBITDA': 36120000000.0, 'Net Income Avi to Common': 20900000000.0, 'Diluted EPS': 4.94}, 'Balance Sheet': {'Quarterly Earnings Growth': -15.2, 'Total Cash': 23890000000.0, 'Total Cash Per Share': 5.88, 'Total Debt': 36930000000.0, 'Total Debt/Equity': 45.57, 'Current Ratio': 1.91}, 'Cash Flow Statement': {'Book Value Per Share': 19.95, 'Operating Cash Flow': 35380000000.0}}}\n",
      "Values = {'MSFT': {'Valuation Measures': {'Market Cap (intraday)': 1930000000000.0, 'Enterprise Value': 1880000000000.0, 'Trailing P/E': 38.15, 'Forward P/E': 31.66, 'PEG Ratio (5 yr expected)': 1.87, 'Price/Sales': 12.59, 'Price/Book': 14.82, 'Enterprise Value/Revenue': 12.27, 'Enterprise Value/EBITDA': 26.23}, 'Fiscal Year': {'Last Split Date': 'Feb 17, 2003', 'Fiscal Year Ends': 'Jun 29, 2020'}, 'Profitability': {'Most Recent Quarter': 'Dec 30, 2020', 'Profit Margin': 33.47}, 'Management Effectiveness': {'Operating Margin': 39.24, 'Return on Assets': 12.81}, 'Income Statement': {'Return on Equity': 42.7, 'Revenue': 153280000000.0, 'Revenue Per Share': 20.23, 'Quarterly Revenue Growth': 16.7, 'Gross Profit': 96940000000.0, 'EBITDA': 71690000000.0, 'Net Income Avi to Common': 51310000000.0, 'Diluted EPS': 6.71}, 'Balance Sheet': {'Quarterly Earnings Growth': 32.7, 'Total Cash': 131990000000.00002, 'Total Cash Per Share': 17.5, 'Total Debt': 82780000000.0, 'Total Debt/Equity': 63.56, 'Current Ratio': 2.58}, 'Cash Flow Statement': {'Book Value Per Share': 17.26, 'Operating Cash Flow': 68030000000.0}}}\n",
      "Values = {'NFLX': {'Valuation Measures': {'Market Cap (intraday)': 245940000000.0, 'Enterprise Value': 256250000000.0, 'Trailing P/E': 91.33, 'Forward P/E': 42.75, 'PEG Ratio (5 yr expected)': 1.15, 'Price/Sales': 9.84, 'Price/Book': 22.23, 'Enterprise Value/Revenue': 10.25, 'Enterprise Value/EBITDA': 54.51}, 'Fiscal Year': {'Last Split Date': 'Jul 14, 2015', 'Fiscal Year Ends': 'Dec 30, 2020'}, 'Profitability': {'Most Recent Quarter': 'Dec 30, 2020', 'Profit Margin': 11.05}, 'Management Effectiveness': {'Operating Margin': 18.34, 'Return on Assets': 7.82}, 'Income Statement': {'Return on Equity': 29.62, 'Revenue': 25000000000.0, 'Revenue Per Share': 56.69, 'Quarterly Revenue Growth': 21.5, 'Gross Profit': 9720000000.0, 'EBITDA': 4700000000.0, 'Net Income Avi to Common': 2760000000.0, 'Diluted EPS': 6.08}, 'Balance Sheet': {'Quarterly Earnings Growth': -7.6, 'Total Cash': 8210000000.000001, 'Total Cash Per Share': 18.53, 'Total Debt': 18510000000.0, 'Total Debt/Equity': 167.29, 'Current Ratio': 1.25}, 'Cash Flow Statement': {'Book Value Per Share': 24.98, 'Operating Cash Flow': 2430000000.0}}}\n",
      "Values = {'NVDA': {'Valuation Measures': {'Market Cap (intraday)': 357120000000.0, 'Enterprise Value': 353280000000.0, 'Trailing P/E': 83.48, 'Forward P/E': 38.43, 'PEG Ratio (5 yr expected)': 1.51, 'Price/Sales': 21.42, 'Price/Book': 21.14, 'Enterprise Value/Revenue': 21.19, 'Enterprise Value/EBITDA': 60.71}, 'Fiscal Year': {'Last Split Date': 'Sep 10, 2007', 'Fiscal Year Ends': 'Jan 30, 2021'}, 'Profitability': {'Most Recent Quarter': 'Jan 30, 2021', 'Profit Margin': 25.98}, 'Management Effectiveness': {'Operating Margin': 28.31, 'Return on Assets': 12.8}, 'Income Statement': {'Return on Equity': 29.78, 'Revenue': 16680000000.0, 'Revenue Per Share': 27.03, 'Quarterly Revenue Growth': 61.1, 'Gross Profit': 10560000000.0, 'EBITDA': 5820000000.0, 'Net Income Avi to Common': 4330000000.0, 'Diluted EPS': 6.9}, 'Balance Sheet': {'Quarterly Earnings Growth': 53.2, 'Total Cash': 11560000000.0, 'Total Cash Per Share': 18.65, 'Total Debt': 7720000000.0, 'Total Debt/Equity': 45.69, 'Current Ratio': 4.09}, 'Cash Flow Statement': {'Book Value Per Share': 27.25, 'Operating Cash Flow': 5820000000.0}}}\n",
      "Values = {'PYPL': {'Valuation Measures': {'Market Cap (intraday)': 312440000000.0, 'Enterprise Value': 309120000000.0, 'Trailing P/E': 75.36, 'Forward P/E': 46.48, 'PEG Ratio (5 yr expected)': 2.35, 'Price/Sales': 14.56, 'Price/Book': 15.62, 'Enterprise Value/Revenue': 14.41, 'Enterprise Value/EBITDA': 71.97}, 'Fiscal Year': {'Last Split Date': 'N/A', 'Fiscal Year Ends': 'Dec 30, 2020'}, 'Profitability': {'Most Recent Quarter': 'Dec 30, 2020', 'Profit Margin': 19.59}, 'Management Effectiveness': {'Operating Margin': 15.98, 'Return on Assets': 3.52}, 'Income Statement': {'Return on Equity': 22.72, 'Revenue': 21450000000.0, 'Revenue Per Share': 18.29, 'Quarterly Revenue Growth': 23.3, 'Gross Profit': 10000000000.0, 'EBITDA': 4300000000.0, 'Net Income Avi to Common': 4200000000.0, 'Diluted EPS': 3.54}, 'Balance Sheet': {'Quarterly Earnings Growth': 209.1, 'Total Cash': 13080000000.0, 'Total Cash Per Share': 11.17, 'Total Debt': 9720000000.0, 'Total Debt/Equity': 48.47, 'Current Ratio': 1.33}, 'Cash Flow Statement': {'Book Value Per Share': 17.08, 'Operating Cash Flow': 5850000000.0}}}\n",
      "Values = {'TSLA': {'Valuation Measures': {'Market Cap (intraday)': 649840000000.0, 'Enterprise Value': 645250000000.0, 'Trailing P/E': 1057.84, 'Forward P/E': 117.74, 'PEG Ratio (5 yr expected)': 4.82, 'Price/Sales': 20.61, 'Price/Book': 29.24, 'Enterprise Value/Revenue': 20.46, 'Enterprise Value/EBITDA': 151.01}, 'Fiscal Year': {'Last Split Date': 'Aug 30, 2020', 'Fiscal Year Ends': 'Dec 30, 2020'}, 'Profitability': {'Most Recent Quarter': 'Dec 30, 2020', 'Profit Margin': 2.29}, 'Management Effectiveness': {'Operating Margin': 6.19, 'Return on Assets': 2.82}, 'Income Statement': {'Return on Equity': 5.42, 'Revenue': 31540000000.0, 'Revenue Per Share': 33.8, 'Quarterly Revenue Growth': 45.5, 'Gross Profit': 6630000000.0, 'EBITDA': 4269999999.9999995, 'Net Income Avi to Common': 690000000.0, 'Diluted EPS': 0.64}, 'Balance Sheet': {'Quarterly Earnings Growth': 157.1, 'Total Cash': 19380000000.0, 'Total Cash Per Share': 20.19, 'Total Debt': 13340000000.0, 'Total Debt/Equity': 56.32, 'Current Ratio': 1.88}, 'Cash Flow Statement': {'Book Value Per Share': 23.15, 'Operating Cash Flow': 5940000000.0}}}\n"
     ]
    }
   ],
   "source": [
    "import json \n",
    "x = json.load(open('Yahoo_Financials.json'))\n",
    "\n",
    "\n",
    "for idx, values in enumerate(x):\n",
    "    print('Values = {}'.format(values))\n",
    "   # for company_name in values:\n",
    "        #print(\"P//E:{}, Company: {}\".format(values[company_name]['Valuation Measures']['Trailing P/E'], company_name))\n",
    "\n",
    "    "
   ]
  },
  {
   "cell_type": "code",
   "execution_count": 79,
   "metadata": {},
   "outputs": [
    {
     "data": {
      "text/plain": [
       "36.07"
      ]
     },
     "execution_count": 79,
     "metadata": {},
     "output_type": "execute_result"
    }
   ],
   "source": [
    "x[0]['AAPL']['Valuation Measures']['Trailing P/E']"
   ]
  },
  {
   "cell_type": "code",
   "execution_count": 97,
   "metadata": {},
   "outputs": [
    {
     "name": "stdout",
     "output_type": "stream",
     "text": [
      "Name: 36.07\n"
     ]
    }
   ],
   "source": [
    "y = x[0]\n",
    "\n",
    "for name in y:\n",
    "    print('Name: {}'.format(repr(y[name]['Valuation Measures']['Trailing P/E'])))"
   ]
  },
  {
   "cell_type": "code",
   "execution_count": null,
   "metadata": {},
   "outputs": [],
   "source": []
  }
 ],
 "metadata": {
  "kernelspec": {
   "display_name": "Python 3",
   "language": "python",
   "name": "python3"
  },
  "language_info": {
   "codemirror_mode": {
    "name": "ipython",
    "version": 3
   },
   "file_extension": ".py",
   "mimetype": "text/x-python",
   "name": "python",
   "nbconvert_exporter": "python",
   "pygments_lexer": "ipython3",
   "version": "3.8.5"
  }
 },
 "nbformat": 4,
 "nbformat_minor": 4
}
