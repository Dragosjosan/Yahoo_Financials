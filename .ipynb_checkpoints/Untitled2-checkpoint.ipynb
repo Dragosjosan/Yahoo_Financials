{
 "cells": [
  {
   "cell_type": "code",
   "execution_count": 87,
   "metadata": {},
   "outputs": [
    {
     "name": "stdout",
     "output_type": "stream",
     "text": [
      "27.59\n",
      "41.1\n",
      "59.97\n",
      "46.11\n",
      "22.38\n",
      "21.59\n",
      "25.92\n",
      "29.84\n",
      "29.32\n",
      "12.03\n",
      "32.57\n",
      "58.69\n",
      "79.76\n",
      "54.67\n",
      "591.07\n"
     ]
    },
    {
     "data": {
      "text/plain": [
       "[27.59,\n",
       " 41.1,\n",
       " 59.97,\n",
       " 46.11,\n",
       " 22.38,\n",
       " 21.59,\n",
       " 25.92,\n",
       " 29.84,\n",
       " 29.32,\n",
       " 12.03,\n",
       " 32.57,\n",
       " 58.69,\n",
       " 79.76,\n",
       " 54.67,\n",
       " 591.07]"
      ]
     },
     "execution_count": 87,
     "metadata": {},
     "output_type": "execute_result"
    }
   ],
   "source": [
    "import json\n",
    "\n",
    "all_data = json.load(open('Yahoo_Financials.json'))\n",
    "\n",
    "for company in all_data:\n",
    "    print(\"{}\".format(all_data[company]['Valuation Measures']['Trailing P/E']))\n",
    "\n",
    "\n",
    "[all_data[company]['Valuation Measures']['Trailing P/E'] for company in all_data]\n"
   ]
  },
  {
   "cell_type": "code",
   "execution_count": 84,
   "metadata": {},
   "outputs": [
    {
     "name": "stdout",
     "output_type": "stream",
     "text": [
      "27.59\n",
      "41.1\n",
      "59.97\n",
      "46.11\n",
      "22.38\n",
      "21.59\n",
      "25.92\n",
      "29.84\n",
      "29.32\n",
      "12.03\n",
      "32.57\n",
      "58.69\n",
      "79.76\n",
      "54.67\n",
      "591.07\n"
     ]
    }
   ],
   "source": [
    "import pandas as pd\n",
    "\n",
    "df = pd.read_json('Yahoo_Financials.json')\n",
    "\n",
    "for idx, company in enumerate(df):\n",
    "    print(\"{}\".format(df[company]['Valuation Measures']['Trailing P/E']))\n",
    "    \n",
    "#df['AAPL']['Valuation Measures']['Trailing P/E']"
   ]
  },
  {
   "cell_type": "code",
   "execution_count": null,
   "metadata": {},
   "outputs": [],
   "source": []
  }
 ],
 "metadata": {
  "kernelspec": {
   "display_name": "Python 3",
   "language": "python",
   "name": "python3"
  },
  "language_info": {
   "codemirror_mode": {
    "name": "ipython",
    "version": 3
   },
   "file_extension": ".py",
   "mimetype": "text/x-python",
   "name": "python",
   "nbconvert_exporter": "python",
   "pygments_lexer": "ipython3",
   "version": "3.8.5"
  }
 },
 "nbformat": 4,
 "nbformat_minor": 4
}
